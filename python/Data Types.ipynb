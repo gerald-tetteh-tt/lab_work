{
 "cells": [
  {
   "cell_type": "markdown",
   "id": "7fda7e61",
   "metadata": {},
   "source": [
    "# Question 5"
   ]
  },
  {
   "cell_type": "code",
   "execution_count": 2,
   "id": "c5b6f2eb",
   "metadata": {},
   "outputs": [
    {
     "name": "stdout",
     "output_type": "stream",
     "text": [
      "<class 'int'>\n",
      "<class 'int'>\n",
      "<class 'str'>\n",
      "<class 'complex'>\n",
      "<class 'tuple'>\n",
      "<class 'list'>\n",
      "<class 'NoneType'>\n"
     ]
    }
   ],
   "source": [
    "print(type(5))\n",
    "print(type(5000 * 50000000))\n",
    "print(type('j'))\n",
    "print(type(1j))\n",
    "print(type((1,)))\n",
    "print(type([1]))\n",
    "print(type(None))"
   ]
  },
  {
   "cell_type": "code",
   "execution_count": 4,
   "id": "7ec0f228",
   "metadata": {},
   "outputs": [
    {
     "ename": "NameError",
     "evalue": "name 'Decimal' is not defined",
     "output_type": "error",
     "traceback": [
      "\u001b[1;31m---------------------------------------------------------------------------\u001b[0m",
      "\u001b[1;31mNameError\u001b[0m                                 Traceback (most recent call last)",
      "Cell \u001b[1;32mIn[4], line 1\u001b[0m\n\u001b[1;32m----> 1\u001b[0m help(\u001b[43mDecimal\u001b[49m)\n",
      "\u001b[1;31mNameError\u001b[0m: name 'Decimal' is not defined"
     ]
    }
   ],
   "source": [
    "help(Decimal)"
   ]
  },
  {
   "cell_type": "markdown",
   "id": "86e4f516",
   "metadata": {},
   "source": [
    "# Question 7"
   ]
  },
  {
   "cell_type": "code",
   "execution_count": 7,
   "id": "bd3ea5f0",
   "metadata": {},
   "outputs": [
    {
     "name": "stdout",
     "output_type": "stream",
     "text": [
      "0\n",
      "1\n",
      "1\n",
      "2\n",
      "3\n",
      "5\n",
      "8\n",
      "13\n",
      "21\n",
      "34\n",
      "55\n",
      "89\n",
      "144\n",
      "233\n",
      "377\n",
      "610\n",
      "987\n",
      "1597\n",
      "2584\n",
      "4181\n"
     ]
    }
   ],
   "source": [
    "n = 0\n",
    "first = 0\n",
    "second = 0\n",
    "while (n != 20):\n",
    "    print(second)\n",
    "    if(first == 0 and second == 0):\n",
    "        second += 1\n",
    "    else:\n",
    "        temp = second\n",
    "        second = first + second\n",
    "        first = temp\n",
    "    n += 1"
   ]
  },
  {
   "cell_type": "markdown",
   "id": "1d1d34a6",
   "metadata": {},
   "source": [
    "# Question 8"
   ]
  },
  {
   "cell_type": "code",
   "execution_count": 11,
   "id": "84d73774",
   "metadata": {},
   "outputs": [
    {
     "name": "stdout",
     "output_type": "stream",
     "text": [
      "d\n",
      "G:e:r:a:l:d\n",
      "\n"
     ]
    }
   ],
   "source": [
    "name = \"Gerald\"\n",
    "print(name[-1])\n",
    "for i in range(len(name)):\n",
    "    print(name[i],end=\"\")\n",
    "    if(name[i] != name[-1]):\n",
    "        print(\":\",end=\"\")\n",
    "print(\"\\n\")"
   ]
  },
  {
   "cell_type": "markdown",
   "id": "e2bd545d",
   "metadata": {},
   "source": [
    "# Question 9"
   ]
  },
  {
   "cell_type": "code",
   "execution_count": 14,
   "id": "0970782f",
   "metadata": {},
   "outputs": [
    {
     "name": "stdout",
     "output_type": "stream",
     "text": [
      "Enter a number between 1 and 8: 4\n",
      "Enter a number between 1 and 8: 5\n",
      "Enter a number between 1 and 8: 3\n",
      "Enter a number between 1 and 8: 7\n",
      "Enter a number between 1 and 8: 2\n",
      "Enter a number between 1 and 8: 5\n",
      "Enter a number between 1 and 8: 7\n",
      "Enter a number between 1 and 8: 8\n",
      "Enter a number between 1 and 8: 5\n",
      "Enter a number between 1 and 8: 4\n",
      "3\n"
     ]
    }
   ],
   "source": [
    "numbers_list = []\n",
    "for i in range(10):\n",
    "    numbers_list.append(input(\"Enter a number between 1 and 8: \"))\n",
    "print(numbers_list.count(\"5\"))"
   ]
  },
  {
   "cell_type": "markdown",
   "id": "799f4e4f",
   "metadata": {},
   "source": [
    "# Question 10"
   ]
  },
  {
   "cell_type": "code",
   "execution_count": 15,
   "id": "204114fc",
   "metadata": {},
   "outputs": [
    {
     "name": "stdout",
     "output_type": "stream",
     "text": [
      "[4, 16]\n"
     ]
    }
   ],
   "source": [
    "numbers = [1,4,9,16,25]\n",
    "numbers = [number for number in numbers if number % 2 == 0]\n",
    "print(numbers)"
   ]
  },
  {
   "cell_type": "code",
   "execution_count": null,
   "id": "d7e3ea14",
   "metadata": {},
   "outputs": [],
   "source": []
  }
 ],
 "metadata": {
  "kernelspec": {
   "display_name": "Python 3 (ipykernel)",
   "language": "python",
   "name": "python3"
  },
  "language_info": {
   "codemirror_mode": {
    "name": "ipython",
    "version": 3
   },
   "file_extension": ".py",
   "mimetype": "text/x-python",
   "name": "python",
   "nbconvert_exporter": "python",
   "pygments_lexer": "ipython3",
   "version": "3.10.9"
  }
 },
 "nbformat": 4,
 "nbformat_minor": 5
}
