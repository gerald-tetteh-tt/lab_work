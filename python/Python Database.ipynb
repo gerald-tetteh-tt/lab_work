{
 "cells": [
  {
   "cell_type": "markdown",
   "id": "1e73afc5",
   "metadata": {},
   "source": [
    "### Import modules"
   ]
  },
  {
   "cell_type": "code",
   "execution_count": 1,
   "id": "552ac6e2",
   "metadata": {},
   "outputs": [],
   "source": [
    "import pandas as pd\n",
    "import matplotlib.pyplot as plt\n",
    "import numpy as np\n",
    "import psycopg2 as db"
   ]
  },
  {
   "cell_type": "markdown",
   "id": "9e6fef66",
   "metadata": {},
   "source": [
    "### Get data from csv file"
   ]
  },
  {
   "cell_type": "code",
   "execution_count": 3,
   "id": "4f548c8a",
   "metadata": {},
   "outputs": [
    {
     "data": {
      "text/html": [
       "<div>\n",
       "<style scoped>\n",
       "    .dataframe tbody tr th:only-of-type {\n",
       "        vertical-align: middle;\n",
       "    }\n",
       "\n",
       "    .dataframe tbody tr th {\n",
       "        vertical-align: top;\n",
       "    }\n",
       "\n",
       "    .dataframe thead th {\n",
       "        text-align: right;\n",
       "    }\n",
       "</style>\n",
       "<table border=\"1\" class=\"dataframe\">\n",
       "  <thead>\n",
       "    <tr style=\"text-align: right;\">\n",
       "      <th></th>\n",
       "      <th>first_name</th>\n",
       "      <th>last_name</th>\n",
       "      <th>address</th>\n",
       "      <th>city</th>\n",
       "      <th>county</th>\n",
       "      <th>state</th>\n",
       "      <th>zip</th>\n",
       "      <th>phone1</th>\n",
       "      <th>phone2</th>\n",
       "    </tr>\n",
       "  </thead>\n",
       "  <tbody>\n",
       "    <tr>\n",
       "      <th>495</th>\n",
       "      <td>Brittni</td>\n",
       "      <td>Gillaspie</td>\n",
       "      <td>67 Rv Cent</td>\n",
       "      <td>Boise</td>\n",
       "      <td>Ada</td>\n",
       "      <td>ID</td>\n",
       "      <td>83709</td>\n",
       "      <td>208-709-1235</td>\n",
       "      <td>208-206-9848</td>\n",
       "    </tr>\n",
       "    <tr>\n",
       "      <th>496</th>\n",
       "      <td>Raylene</td>\n",
       "      <td>Kampa</td>\n",
       "      <td>2 Sw Nyberg Rd</td>\n",
       "      <td>Elkhart</td>\n",
       "      <td>Elkhart</td>\n",
       "      <td>IN</td>\n",
       "      <td>46514</td>\n",
       "      <td>574-499-1454</td>\n",
       "      <td>574-330-1884</td>\n",
       "    </tr>\n",
       "    <tr>\n",
       "      <th>497</th>\n",
       "      <td>Flo</td>\n",
       "      <td>Bookamer</td>\n",
       "      <td>89992 E 15th St</td>\n",
       "      <td>Alliance</td>\n",
       "      <td>Box Butte</td>\n",
       "      <td>NE</td>\n",
       "      <td>69301</td>\n",
       "      <td>308-726-2182</td>\n",
       "      <td>308-250-6987</td>\n",
       "    </tr>\n",
       "    <tr>\n",
       "      <th>498</th>\n",
       "      <td>Jani</td>\n",
       "      <td>Biddy</td>\n",
       "      <td>61556 W 20th Ave</td>\n",
       "      <td>Seattle</td>\n",
       "      <td>King</td>\n",
       "      <td>WA</td>\n",
       "      <td>98104</td>\n",
       "      <td>206-711-6498</td>\n",
       "      <td>206-395-6284</td>\n",
       "    </tr>\n",
       "    <tr>\n",
       "      <th>499</th>\n",
       "      <td>Chauncey</td>\n",
       "      <td>Motley</td>\n",
       "      <td>63 E Aurora Dr</td>\n",
       "      <td>Orlando</td>\n",
       "      <td>Orange</td>\n",
       "      <td>FL</td>\n",
       "      <td>32804</td>\n",
       "      <td>407-413-4842</td>\n",
       "      <td>407-557-8857</td>\n",
       "    </tr>\n",
       "  </tbody>\n",
       "</table>\n",
       "</div>"
      ],
      "text/plain": [
       "    first_name  last_name           address      city     county state    zip  \\\n",
       "495    Brittni  Gillaspie        67 Rv Cent     Boise        Ada    ID  83709   \n",
       "496    Raylene      Kampa    2 Sw Nyberg Rd   Elkhart    Elkhart    IN  46514   \n",
       "497        Flo   Bookamer   89992 E 15th St  Alliance  Box Butte    NE  69301   \n",
       "498       Jani      Biddy  61556 W 20th Ave   Seattle       King    WA  98104   \n",
       "499   Chauncey     Motley    63 E Aurora Dr   Orlando     Orange    FL  32804   \n",
       "\n",
       "           phone1        phone2  \n",
       "495  208-709-1235  208-206-9848  \n",
       "496  574-499-1454  574-330-1884  \n",
       "497  308-726-2182  308-250-6987  \n",
       "498  206-711-6498  206-395-6284  \n",
       "499  407-413-4842  407-557-8857  "
      ]
     },
     "execution_count": 3,
     "metadata": {},
     "output_type": "execute_result"
    }
   ],
   "source": [
    "users_df = pd.read_csv(\"500-us-users.csv\")\n",
    "users_df.tail()"
   ]
  },
  {
   "cell_type": "markdown",
   "id": "f0c6c76a",
   "metadata": {},
   "source": [
    "### Connecting to DB"
   ]
  },
  {
   "cell_type": "code",
   "execution_count": 2,
   "id": "0b92cac8",
   "metadata": {},
   "outputs": [],
   "source": [
    "connection = db.connect(database=\"postgres\", user=\"postgres\", password=\"postgres\", host=\"localhost\", port=\"5432\")"
   ]
  },
  {
   "cell_type": "markdown",
   "id": "c45bab60",
   "metadata": {},
   "source": [
    "### Creating Schema"
   ]
  },
  {
   "cell_type": "code",
   "execution_count": 18,
   "id": "c876f556",
   "metadata": {},
   "outputs": [],
   "source": [
    "cursor = connection.cursor()\n",
    "cursor.execute(\"CREATE SCHEMA IF NOT EXISTS people\")\n",
    "connection.commit()\n",
    "cursor.close()"
   ]
  },
  {
   "cell_type": "markdown",
   "id": "33b28e4e",
   "metadata": {},
   "source": [
    "### Create Tables"
   ]
  },
  {
   "cell_type": "code",
   "execution_count": 19,
   "id": "8bb3b720",
   "metadata": {},
   "outputs": [],
   "source": [
    "cursor = connection.cursor()\n",
    "cursor.execute(\"\"\"CREATE TABLE IF NOT EXISTS people.users(\n",
    "    user_id serial PRIMARY KEY,\n",
    "    first_name VARCHAR(50) NOT NULL,\n",
    "    last_name VARCHAR(50) NOT NULL,\n",
    "    address VARCHAR(255) NOT NULL,\n",
    "    city VARCHAR(100) NOT NULL,\n",
    "    county VARCHAR(100) NOT NULL,\n",
    "    state VARCHAR(3) NOT NULL,\n",
    "    zip VARCHAR(15) NOT NULL\n",
    ")\n",
    "\"\"\")\n",
    "cursor.execute(\"\"\"CREATE TABLE IF NOT EXISTS people.phone_numbers(\n",
    "    phone_number_id serial NOT NULL,\n",
    "    user_id INT NOT NULL,\n",
    "    phone_number VARCHAR(12) NOT NULL,\n",
    "    FOREIGN KEY (user_id) REFERENCES people.users (user_id)\n",
    ")\n",
    "\"\"\")\n",
    "connection.commit()\n",
    "cursor.close()"
   ]
  },
  {
   "cell_type": "markdown",
   "id": "031c107b",
   "metadata": {},
   "source": [
    "### Create INDEX on ZIP in USERS table"
   ]
  },
  {
   "cell_type": "code",
   "execution_count": 20,
   "id": "a054d125",
   "metadata": {},
   "outputs": [],
   "source": [
    "cursor = connection.cursor()\n",
    "cursor.execute(\"CREATE INDEX IF NOT EXISTS zip_index ON people.users (zip)\")\n",
    "connection.commit()\n",
    "cursor.close()"
   ]
  },
  {
   "cell_type": "markdown",
   "id": "b522e2c7",
   "metadata": {},
   "source": [
    "### INSERT data into tables"
   ]
  },
  {
   "cell_type": "code",
   "execution_count": 24,
   "id": "05f54525",
   "metadata": {},
   "outputs": [],
   "source": [
    "cursor = connection.cursor()\n",
    "# cursor.execute(\"ROLLBACK\")\n",
    "# truncate table before running\n",
    "# cursor.execute(\"TRUNCATE ONLY people.users, people.phone_numbers RESTART IDENTITY\")\n",
    "for index, row in users_df.iterrows():\n",
    "    cursor.execute(\"\"\"\n",
    "        INSERT INTO people.users (first_name,last_name,address,city,county,state,zip)\n",
    "        VALUES (%s,%s,%s,%s,%s,%s,%s) RETURNING user_id\n",
    "        \"\"\",\n",
    "        (row[\"first_name\"],row[\"last_name\"],row[\"address\"],row[\"city\"],row[\"county\"],row[\"state\"],row[\"zip\"])\n",
    "    )\n",
    "    last_id = cursor.fetchone()[0]\n",
    "    cursor.execute(\"\"\"\n",
    "        INSERT INTO people.phone_numbers (user_id,phone_number)\n",
    "        VALUES (%s,%s)\n",
    "        \"\"\",\n",
    "        (last_id,row[\"phone1\"])\n",
    "    )\n",
    "    cursor.execute(\"\"\"\n",
    "        INSERT INTO people.phone_numbers (user_id,phone_number)\n",
    "        VALUES (%s,%s)\n",
    "        \"\"\",\n",
    "        (last_id,row[\"phone2\"])\n",
    "    )\n",
    "connection.commit()\n",
    "cursor.close()"
   ]
  },
  {
   "cell_type": "markdown",
   "id": "60958e05",
   "metadata": {},
   "source": [
    "### How many people are from each state ??"
   ]
  },
  {
   "cell_type": "code",
   "execution_count": 3,
   "id": "fa7bd5b6",
   "metadata": {},
   "outputs": [
    {
     "name": "stdout",
     "output_type": "stream",
     "text": [
      "[('CA', 72), ('NH', 1), ('OR', 6), ('ND', 1), ('TX', 32), ('NV', 2), ('KY', 1), ('OH', 22), ('NY', 46), ('HI', 4), ('NM', 2), ('MS', 4), ('IN', 9), ('DC', 1), ('NE', 2), ('MO', 4), ('FL', 28), ('ME', 3), ('AR', 1), ('CT', 5), ('NC', 8), ('WI', 11), ('SD', 1), ('OK', 1), ('RI', 5), ('GA', 7), ('ID', 4), ('MN', 7), ('PA', 29), ('MD', 17), ('AK', 6), ('WY', 3), ('LA', 9), ('MT', 1), ('IL', 15), ('TN', 10), ('WA', 8), ('NJ', 52), ('MI', 14), ('MA', 12), ('UT', 1), ('IA', 1), ('CO', 8), ('SC', 3), ('VA', 7), ('AZ', 9), ('KS', 5)]\n"
     ]
    }
   ],
   "source": [
    "cursor = connection.cursor()\n",
    "cursor.execute(\"\"\"\n",
    "    SELECT u.state, COUNT(*) AS \"No. of people\"\n",
    "    FROM people.users AS u\n",
    "    GROUP BY u.state\n",
    "\"\"\")\n",
    "result = cursor.fetchall()\n",
    "cursor.close()\n",
    "print(result)"
   ]
  },
  {
   "cell_type": "code",
   "execution_count": 4,
   "id": "1c36b76e",
   "metadata": {},
   "outputs": [
    {
     "name": "stdout",
     "output_type": "stream",
     "text": [
      "[('Jose Stockham', '10011'), ('Layla Springe', '10011'), ('Willow Kusko', '10011'), ('Cyril Daufeldt', '10013'), ('Derick Dhamer', '10013'), ('Haydee Denooyer', '10016'), ('Jess Chaffins', '10016'), ('Gregoria Pawlowicz', '11530'), ('Gilma Liukko', '11530'), ('Donte Kines', '1602'), ('Lucy Treston', '1602'), ('Edna Miceli', '16502'), ('Elly Morocco', '16502'), ('Franklyn Emard', '19103'), ('Ronny Caiafa', '19103'), ('Lisha Centini', '22102'), ('Lavonna Wolny', '22102'), ('Salome Lacovara', '23219'), ('Jerry Dallen', '23219'), ('Jade Farrar', '29201'), ('Sabra Uyetake', '29201'), ('Renea Monterrubio', '30328'), ('Sarah Candlish', '30328'), ('Caprice Suell', '37211'), ('Audra Kohnert', '37211'), ('Casie Good', '37211'), ('Lorrie Nestle', '37388'), ('Jesusa Shin', '37388'), ('Bernardine Rodefer', '38112'), ('Linn Paa', '38112'), ('Goldie Schirpke', '4401'), ('Jolanda Hanafan', '4401'), ('Adelina Nabours', '44103'), ('Kattie Vonasek', '44103'), ('Cyndy Goldammer', '55337'), ('Quentin Birkner', '55337'), ('Carlee Boulter', '67410'), ('Kati Rulapaugh', '67410'), ('Tasia Andreason', '7032'), ('Lili Paskin', '7032'), ('Cordelia Storment', '70506'), ('Willodean Konopacki', '70506'), ('Elza Lipke', '7104'), ('Lynelle Auber', '7104'), ('Merlyn Lawler', '7304'), ('Helaine Halter', '7304'), ('Earleen Mai', '75227'), ('Leatha Hagele', '75227'), ('Annmarie Castros', '77301'), ('Bernardo Figeroa', '77301'), ('Tracey Modzelewski', '77301'), ('Valentine Gillian', '78204'), ('Lorean Martabano', '78204'), ('Fannie Lungren', '78664'), ('Xochitl Discipio', '78664'), ('An Fritz', '8401'), ('Cheryl Haroldson', '8401'), ('Mattie Poquette', '85013'), ('Elke Sengbusch', '85013'), ('Jettie Mconnell', '8807'), ('Portia Stimmel', '8807'), ('Jamal Vanausdal', '8831'), ('Tegan Arceo', '8831'), ('Lizbeth Kohl', '90248'), ('Dick Wenzinger', '90248'), ('Rima Bevelacqua', '90248'), ('Benton Skursky', '90248'), ('Shawna Palaspas', '91362'), ('Melodie Knipp', '91362'), ('Raul Upthegrove', '91942'), ('Brett Mccullan', '91942'), ('Vincenza Zepp', '92020'), ('Peggie Sturiale', '92020'), ('Cristy Lother', '92025'), ('Clorinda Heimann', '92025'), ('Kallie Blackwood', '94104'), ('Tarra Nachor', '94104'), ('Stephaine Vinning', '94104'), ('Gayla Schnitzler', '94545'), ('Dominque Dickerson', '94545'), ('Refugia Jacobos', '94545'), ('Carma Vanheusen', '94577'), ('Louisa Cronauer', '94577'), ('Veronika Inouye', '95111'), ('Leota Dilliard', '95111'), ('Ettie Hoopengardner', '99352'), ('Laurel Pagliuca', '99352'), ('Gail Kitty', '99501'), ('Wilda Giguere', '99501'), ('Lenna Paprocki', '99501')]\n"
     ]
    }
   ],
   "source": [
    "cursor = connection.cursor()\n",
    "cursor.execute(\"\"\"\n",
    "    SELECT \n",
    "        (u.first_name || ' ' || u.last_name) AS \"Name\",\n",
    "        u.zip\n",
    "    FROM people.users AS u\n",
    "    WHERE u.zip in (\n",
    "        SELECT\n",
    "            u.zip AS \"zip_code\"\n",
    "        FROM people.users AS u\n",
    "        GROUP BY u.zip\n",
    "        HAVING COUNT(*) > 1\n",
    "    )\n",
    "    ORDER BY u.zip\n",
    "\"\"\")\n",
    "result = cursor.fetchall()\n",
    "cursor.close()\n",
    "print(result)"
   ]
  },
  {
   "cell_type": "code",
   "execution_count": 5,
   "id": "68885aa6",
   "metadata": {},
   "outputs": [
    {
     "name": "stdout",
     "output_type": "stream",
     "text": [
      "[('N', 10), ('O', 7), ('V', 10), ('L', 27), ('Z', 4), ('M', 46), ('D', 23), ('G', 22), ('J', 8), ('P', 26), ('I', 4), ('U', 2), ('K', 30), ('A', 19), ('Y', 4), ('R', 25), ('W', 20), ('E', 9), ('B', 41), ('C', 35), ('T', 18), ('H', 29), ('F', 22), ('S', 59)]\n"
     ]
    }
   ],
   "source": [
    "cursor = connection.cursor()\n",
    "cursor.execute(\"\"\"\n",
    "    SELECT\n",
    "        LEFT(u.last_name,1) AS \"First letter\",\n",
    "        COUNT(*)\n",
    "    FROM people.users AS u\n",
    "    GROUP BY LEFT(u.last_name,1)\n",
    "\"\"\")\n",
    "result = cursor.fetchall()\n",
    "cursor.close()\n",
    "print(result)"
   ]
  },
  {
   "cell_type": "code",
   "execution_count": null,
   "id": "9c61c7f0",
   "metadata": {},
   "outputs": [],
   "source": []
  }
 ],
 "metadata": {
  "kernelspec": {
   "display_name": "Python 3 (ipykernel)",
   "language": "python",
   "name": "python3"
  },
  "language_info": {
   "codemirror_mode": {
    "name": "ipython",
    "version": 3
   },
   "file_extension": ".py",
   "mimetype": "text/x-python",
   "name": "python",
   "nbconvert_exporter": "python",
   "pygments_lexer": "ipython3",
   "version": "3.10.9"
  }
 },
 "nbformat": 4,
 "nbformat_minor": 5
}
