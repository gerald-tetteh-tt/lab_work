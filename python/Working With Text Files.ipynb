{
 "cells": [
  {
   "cell_type": "markdown",
   "id": "e5811627",
   "metadata": {},
   "source": [
    "# Question 1"
   ]
  },
  {
   "cell_type": "code",
   "execution_count": 4,
   "id": "54d16c01",
   "metadata": {},
   "outputs": [
    {
     "name": "stdout",
     "output_type": "stream",
     "text": [
      "Type something: Hello there !!\n",
      "Type something: General Kenobi !!\n",
      "Type something: end\n",
      "Hello there !!\n",
      "General Kenobi !!\n"
     ]
    }
   ],
   "source": [
    "user_input = \"\"\n",
    "history = []\n",
    "while(user_input != \"end\"):\n",
    "    user_input = input(\"Type something: \")\n",
    "    if(user_input != \"end\"):\n",
    "        history.append(user_input)\n",
    "with open(\"user_input.txt\",\"w\") as user_input_file:\n",
    "    for text in history:\n",
    "        user_input_file.write(text + \"\\n\")\n",
    "with open(\"user_input.txt\",\"r\") as user_input_file:\n",
    "    for text in user_input_file.readlines():\n",
    "        print(text,end=\"\")"
   ]
  },
  {
   "cell_type": "code",
   "execution_count": null,
   "id": "9c8e90b8",
   "metadata": {},
   "outputs": [],
   "source": []
  }
 ],
 "metadata": {
  "kernelspec": {
   "display_name": "Python 3 (ipykernel)",
   "language": "python",
   "name": "python3"
  },
  "language_info": {
   "codemirror_mode": {
    "name": "ipython",
    "version": 3
   },
   "file_extension": ".py",
   "mimetype": "text/x-python",
   "name": "python",
   "nbconvert_exporter": "python",
   "pygments_lexer": "ipython3",
   "version": "3.10.9"
  }
 },
 "nbformat": 4,
 "nbformat_minor": 5
}
