{
 "cells": [
  {
   "cell_type": "markdown",
   "id": "8407ca1e",
   "metadata": {},
   "source": [
    "# Question 2"
   ]
  },
  {
   "cell_type": "code",
   "execution_count": 2,
   "id": "97ce7749",
   "metadata": {},
   "outputs": [
    {
     "name": "stdout",
     "output_type": "stream",
     "text": [
      "[9, 3, 6, 7, 9, 2, 4, 5, 6, 7]\n"
     ]
    }
   ],
   "source": [
    "numbers = [3,6,7,9,2,4,5,6,7,9]\n",
    "def move_to_front(array: list) -> None:\n",
    "    last_element = array.pop()\n",
    "    array.insert(0,last_element)\n",
    "move_to_front(numbers)\n",
    "print(numbers)"
   ]
  },
  {
   "cell_type": "markdown",
   "id": "b8bccf84",
   "metadata": {},
   "source": [
    "# Question 3"
   ]
  },
  {
   "cell_type": "code",
   "execution_count": 5,
   "id": "34326f74",
   "metadata": {},
   "outputs": [
    {
     "name": "stdout",
     "output_type": "stream",
     "text": [
      "(9, 4, 6, 7, 6, 3, 9, 5, 9, 4, 6, 9)\n"
     ]
    }
   ],
   "source": [
    "numbers = [3,6,7,9,2,4,5,6,7,9]\n",
    "def get_indices(array: list, *args: list[int]) -> None:\n",
    "    result = []\n",
    "    for index in args:\n",
    "        result.append(array[index])\n",
    "    return tuple(result)\n",
    "print(get_indices(numbers,3,5,7,2,1,0,3,6,3,5,1,3))"
   ]
  },
  {
   "cell_type": "markdown",
   "id": "1674d693",
   "metadata": {},
   "source": [
    "# Question 4"
   ]
  },
  {
   "cell_type": "code",
   "execution_count": 6,
   "id": "1956ab79",
   "metadata": {},
   "outputs": [
    {
     "data": {
      "text/plain": [
       "{'hello': 'there', 'general': 'kenobi!'}"
      ]
     },
     "execution_count": 6,
     "metadata": {},
     "output_type": "execute_result"
    }
   ],
   "source": [
    "def return_parameters(**kwargs) -> dict:\n",
    "    return kwargs\n",
    "return_parameters(hello=\"there\",general=\"kenobi!\")"
   ]
  },
  {
   "cell_type": "markdown",
   "id": "a8d6fc61",
   "metadata": {},
   "source": [
    "# Question 5"
   ]
  },
  {
   "cell_type": "code",
   "execution_count": 7,
   "id": "d58fcf4d",
   "metadata": {},
   "outputs": [
    {
     "name": "stdout",
     "output_type": "stream",
     "text": [
      "35\n",
      "9\n"
     ]
    }
   ],
   "source": [
    "def accumulate(initial: int, values: tuple[int]) -> int:\n",
    "    for value in values:\n",
    "        initial += value\n",
    "    return initial\n",
    "print(accumulate(5,(1,5,7,8,9,0)))\n",
    "print(accumulate(0,(1,3,5)))"
   ]
  },
  {
   "cell_type": "markdown",
   "id": "482ceb89",
   "metadata": {},
   "source": [
    "# Question 6"
   ]
  },
  {
   "cell_type": "code",
   "execution_count": 20,
   "id": "712006d5",
   "metadata": {},
   "outputs": [
    {
     "name": "stdout",
     "output_type": "stream",
     "text": [
      "[0, 1, 1, 2, 3, 5, 8, 13, 21, 34, 55, 89, 144, 233, 377]\n"
     ]
    }
   ],
   "source": [
    "def fib(n: int) -> list[int]:\n",
    "    first = 0\n",
    "    second = 0\n",
    "    result = []\n",
    "    while (n != 0):\n",
    "        result.append(second)\n",
    "        if(first == 0 and second == 0):\n",
    "            second += 1\n",
    "        else:\n",
    "            temp = second\n",
    "            second = first + second\n",
    "            first = temp\n",
    "        n -= 1\n",
    "    return result\n",
    "\n",
    "print(fib(15))"
   ]
  },
  {
   "cell_type": "code",
   "execution_count": null,
   "id": "b0d86c97",
   "metadata": {},
   "outputs": [],
   "source": []
  }
 ],
 "metadata": {
  "kernelspec": {
   "display_name": "Python 3 (ipykernel)",
   "language": "python",
   "name": "python3"
  },
  "language_info": {
   "codemirror_mode": {
    "name": "ipython",
    "version": 3
   },
   "file_extension": ".py",
   "mimetype": "text/x-python",
   "name": "python",
   "nbconvert_exporter": "python",
   "pygments_lexer": "ipython3",
   "version": "3.10.9"
  }
 },
 "nbformat": 4,
 "nbformat_minor": 5
}
