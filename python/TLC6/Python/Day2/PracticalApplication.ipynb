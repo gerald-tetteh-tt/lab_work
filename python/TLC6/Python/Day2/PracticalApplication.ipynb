{
 "cells": [
  {
   "cell_type": "markdown",
   "metadata": {},
   "source": [
    "\n",
    "# Bollinger Bands\n",
    "\n",
    "Bollinger bands are a type of statistical chart characterizing the prices and volatility over time of a financial instrument or commodity, using a formulaic method propounded by John Bollinger in the 1980s. \n",
    "\n",
    "Financial traders employ these charts as a methodical tool to inform trading decisions, control automated trading systems, or as a component of technical analysis. \n",
    "\n",
    "Bollinger bands display a graphical band, usually an upper and a lower band.\n",
    "\n",
    "This is a very simple example of \n",
    "- creating a Bollinger band for 2 std deviations above and below the price of oil\n",
    "- displaying the Bollinger band graphically"
   ]
  },
  {
   "cell_type": "code",
   "execution_count": null,
   "metadata": {},
   "outputs": [],
   "source": [
    "import pandas as pd\n",
    "import numpy as np"
   ]
  },
  {
   "cell_type": "markdown",
   "metadata": {},
   "source": [
    "## Load in the data\n",
    "\n",
    "Use the file GOLD.csv into a DataFrame"
   ]
  },
  {
   "cell_type": "code",
   "execution_count": null,
   "metadata": {},
   "outputs": [],
   "source": [
    "df = pd.read_excel('FinData.xls', sheet_name='GOOGL', index_col='Date', parse_dates=True)\n",
    "df"
   ]
  },
  {
   "cell_type": "markdown",
   "metadata": {},
   "source": [
    "## Create a new DataFrame \n",
    "\n",
    "We are going to create a new DataFrame with 3 columns.\n",
    "\n",
    "This DataFrame will be used to store data for the Bollinger band which will be derived from the original data\n",
    "\n",
    "- **'Price(m avg)'** A monthly rolling average of the 'USD (PM)' column\n",
    "- **'Upper'** which will be 2 std deviations of the price above **'Price(m avg)'**\n",
    "- **'Lower'** which will be 2 std deviations of the price below **'Price(m avg)'**\n",
    "\n",
    "** NOTE ** <br>\n",
    "- Don't panic if you don't understand the syntax, commands, rolling(30) etc.<BR>\n",
    "- Understand that this is a very typical analysis that Financial Data Analysts perform on a daily basis.<BR>\n",
    "- Appreciate that python, pandas, etc. make this type of analysis extremely easy."
   ]
  },
  {
   "cell_type": "code",
   "execution_count": null,
   "metadata": {},
   "outputs": [],
   "source": [
    "# Create an empty DataFrame\n",
    "# This is a second way to create a DataFrame \n",
    "# - the first is to read the data directly from a csv file\n",
    "# - this method creates an empty DataFrame in memory\n",
    "\n",
    "df_BOLL = pd.DataFrame()\n",
    "df_BOLL.head()\n",
    "\n",
    "# Copy the 'Close' column from the original DataFrame into this DataFrame\n",
    "df_BOLL['Close'] = df['Close']\n",
    "df_BOLL.head()\n",
    "df_BOLL['SMA(Close)'] = df_BOLL['Close'].rolling(21).mean()\n",
    "df_BOLL['Upper'] = df_BOLL['SMA(Close)'] + 2 * df_BOLL['Close'].rolling(21).std()\n",
    "df_BOLL['Lower'] = df_BOLL['SMA(Close)'] - 2 * df_BOLL['Close'].rolling(21).std()\n",
    "df_BOLL"
   ]
  },
  {
   "cell_type": "code",
   "execution_count": null,
   "metadata": {},
   "outputs": [],
   "source": [
    "df_BOLL.plot(figsize=(18,9))"
   ]
  },
  {
   "cell_type": "code",
   "execution_count": null,
   "metadata": {},
   "outputs": [],
   "source": [
    "df_BOLL['2015'].plot(figsize=(18,9))"
   ]
  },
  {
   "cell_type": "code",
   "execution_count": null,
   "metadata": {},
   "outputs": [],
   "source": []
  }
 ],
 "metadata": {
  "kernelspec": {
   "display_name": "Python 3",
   "language": "python",
   "name": "python3"
  },
  "language_info": {
   "codemirror_mode": {
    "name": "ipython",
    "version": 3
   },
   "file_extension": ".py",
   "mimetype": "text/x-python",
   "name": "python",
   "nbconvert_exporter": "python",
   "pygments_lexer": "ipython3",
   "version": "3.8.5"
  }
 },
 "nbformat": 4,
 "nbformat_minor": 4
}
