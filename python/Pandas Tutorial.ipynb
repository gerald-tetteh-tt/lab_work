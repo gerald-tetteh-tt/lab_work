{
 "cells": [
  {
   "cell_type": "code",
   "execution_count": 1,
   "id": "606b9219",
   "metadata": {},
   "outputs": [],
   "source": [
    "import pandas as pd"
   ]
  },
  {
   "cell_type": "code",
   "execution_count": 3,
   "id": "d4b942c5",
   "metadata": {},
   "outputs": [
    {
     "name": "stdout",
     "output_type": "stream",
     "text": [
      "a    100\n",
      "b    200\n",
      "c    300\n",
      "d    400\n",
      "e    800\n",
      "dtype: int64\n"
     ]
    }
   ],
   "source": [
    "series = pd.Series({\"a\": 100, \"b\": 200, \"c\": 300, \"d\": 400, \"e\": 800})\n",
    "print(series)"
   ]
  },
  {
   "cell_type": "code",
   "execution_count": 4,
   "id": "0dfad036",
   "metadata": {},
   "outputs": [
    {
     "name": "stdout",
     "output_type": "stream",
     "text": [
      "[100 200 300 400 800]\n"
     ]
    }
   ],
   "source": [
    "print(series.to_numpy())"
   ]
  },
  {
   "cell_type": "code",
   "execution_count": 8,
   "id": "cf89e700",
   "metadata": {},
   "outputs": [
    {
     "name": "stdout",
     "output_type": "stream",
     "text": [
      "0    1.0\n",
      "1    2.0\n",
      "2    3.0\n",
      "3    4.0\n",
      "4    NaN\n",
      "5    7.0\n",
      "6    NaN\n",
      "dtype: float64\n"
     ]
    }
   ],
   "source": [
    "object_series = pd.Series([1,2,3,4,\"python\",7,\"hello\"])\n",
    "number_series = pd.to_numeric(object_series,errors=\"coerce\")\n",
    "print(number_series)"
   ]
  },
  {
   "cell_type": "code",
   "execution_count": 12,
   "id": "d6483fe7",
   "metadata": {},
   "outputs": [
    {
     "name": "stdout",
     "output_type": "stream",
     "text": [
      "0     1\n",
      "1     2\n",
      "2     3\n",
      "3     4\n",
      "4     7\n",
      "5    11\n",
      "Name: col1, dtype: int64\n",
      "<class 'pandas.core.series.Series'>\n"
     ]
    }
   ],
   "source": [
    "df = pd.DataFrame({\"col1\": [1,2,3,4,7,11], \"col2\": [4,5,6,9,5,0], \"col3\": [7,5,8,12,1,11]})\n",
    "col1 = df[\"col1\"]\n",
    "print(col1)\n",
    "print(type(col1))"
   ]
  },
  {
   "cell_type": "code",
   "execution_count": null,
   "id": "1538c01f",
   "metadata": {},
   "outputs": [],
   "source": [
    "list_series = pd.Series([[\"Red\",\"Green\",\"White\"],[\"Red\",\"Black\"],[\"Yellow\"]])"
   ]
  }
 ],
 "metadata": {
  "kernelspec": {
   "display_name": "Python 3 (ipykernel)",
   "language": "python",
   "name": "python3"
  },
  "language_info": {
   "codemirror_mode": {
    "name": "ipython",
    "version": 3
   },
   "file_extension": ".py",
   "mimetype": "text/x-python",
   "name": "python",
   "nbconvert_exporter": "python",
   "pygments_lexer": "ipython3",
   "version": "3.10.9"
  }
 },
 "nbformat": 4,
 "nbformat_minor": 5
}
